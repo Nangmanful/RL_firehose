{
 "cells": [
  {
   "cell_type": "code",
   "execution_count": null,
   "id": "8b8c973e",
   "metadata": {},
   "outputs": [],
   "source": [
    "# !pip install moviepy"
   ]
  },
  {
   "cell_type": "code",
   "execution_count": null,
   "id": "b7ed1831",
   "metadata": {},
   "outputs": [],
   "source": [
    "from moviepy.editor import *\n",
    "from typing import List, Union\n",
    "from datetime import datetime"
   ]
  },
  {
   "cell_type": "code",
   "execution_count": null,
   "id": "cc3b4e2a",
   "metadata": {},
   "outputs": [],
   "source": [
    "class Video:\n",
    "    def __init__(self, fnames: Union[str, List[str]], margin: int=0):\n",
    "        # Stack videos if required\n",
    "        if isinstance(fnames, str):\n",
    "            self.clip = VideoFileClip(fnames)\n",
    "            self.suffix = fnames.split(\".mp4\")[0]\n",
    "        else:\n",
    "            clips = [\n",
    "                VideoFileClip(fname).margin(margin, color=(255, 255, 255))\n",
    "                for fname in fnames\n",
    "            ]\n",
    "            self.clip = clips_array([clips], bg_color=(255, 255, 255))\n",
    "\n",
    "            date_str = datetime.now().strftime(\"%Y-%m-%d_%H-%M-%S\")\n",
    "            self.suffix = date_str + \"-stacked\"\n",
    "\n",
    "    def adjust_speed(self, speed_scale: float):\n",
    "        assert speed_scale > 0\n",
    "        self.clip = self.clip.fx(vfx.speedx, speed_scale)\n",
    "        self.suffix += f\"-speed={speed_scale}x\"\n",
    "\n",
    "    def write(self, video_type: str=\"mp4\"):\n",
    "        out_fname = self.suffix + \".\" + video_type\n",
    "\n",
    "        if video_type == \"gif\":\n",
    "            self.clip.write_gif(out_fname)\n",
    "        else:\n",
    "            self.clip.write_videofile(out_fname)\n",
    "\n",
    "    def show(self):\n",
    "        return self.clip.ipython_display()"
   ]
  },
  {
   "cell_type": "code",
   "execution_count": null,
   "id": "86cfb613",
   "metadata": {
    "scrolled": true
   },
   "outputs": [],
   "source": [
    "video = Video([\n",
    "    \"good-naive-Sub20x20-2022-05-04_16-37-45.mp4\",\n",
    "    \"good-expert-Sub20x20-2022-05-04_16-37-38.mp4\",\n",
    "    \"good-ppo-maskable-Sub20x20-2022-05-04_16-37-54.mp4\"],\n",
    "#     \"shit-naive-Sub20x20-2022-05-04_16-37-18.mp4\",\n",
    "#     \"shit-expert-Sub20x20-2022-05-04_16-37-22.mp4\",\n",
    "#     \"shit-ppo-maskable-Sub20x20-2022-05-04_16-37-03.mp4\"],\n",
    "#     \"ppo-maskable-Sub20x20-2022-05-04_14-16-12.mp4\",\n",
    "#     [\n",
    "#         \"fixed-naive-Sub20x20-2022-05-04_09-14-25.mp4\",\n",
    "#         \"fixed-expert-Sub20x20-2022-05-04_09-14-32.mp4\",\n",
    "#         \"fixed-ppo-maskable-Sub20x20-2022-05-04_09-14-17.mp4\"\n",
    "#     ],\n",
    "    margin=10\n",
    ")\n",
    "video.adjust_speed(0.5)\n",
    "# video.clip = video.clip.resize(0.5)\n",
    "video.show()"
   ]
  },
  {
   "cell_type": "code",
   "execution_count": null,
   "id": "bf65ea6d",
   "metadata": {},
   "outputs": [],
   "source": [
    "video.write(\"gif\")"
   ]
  },
  {
   "cell_type": "code",
   "execution_count": null,
   "id": "4f788671",
   "metadata": {},
   "outputs": [],
   "source": []
  },
  {
   "cell_type": "code",
   "execution_count": null,
   "id": "6467bc18",
   "metadata": {},
   "outputs": [],
   "source": []
  }
 ],
 "metadata": {
  "kernelspec": {
   "display_name": "Python 3 (ipykernel)",
   "language": "python",
   "name": "python3"
  },
  "language_info": {
   "codemirror_mode": {
    "name": "ipython",
    "version": 3
   },
   "file_extension": ".py",
   "mimetype": "text/x-python",
   "name": "python",
   "nbconvert_exporter": "python",
   "pygments_lexer": "ipython3",
   "version": "3.9.7"
  }
 },
 "nbformat": 4,
 "nbformat_minor": 5
}
