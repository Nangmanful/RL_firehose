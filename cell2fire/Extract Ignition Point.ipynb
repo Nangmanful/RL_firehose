{
 "cells": [
  {
   "cell_type": "code",
   "execution_count": 14,
   "id": "649b43c9",
   "metadata": {},
   "outputs": [],
   "source": [
    "import json\n",
    "# from firehose.helpers import IgnitionPoint\n",
    "from dataclasses import dataclass"
   ]
  },
  {
   "cell_type": "code",
   "execution_count": 15,
   "id": "5c22b831",
   "metadata": {},
   "outputs": [],
   "source": [
    "x = json.load(open('Sub20x20_1000-ignition-points.json'))\n",
    "\n",
    "@dataclass(frozen=True)\n",
    "class IgnitionPoint:\n",
    "    idx: int\n",
    "    year: int\n",
    "    x: int = -1  # column (0 indexed)\n",
    "    y: int = -1  # row (0 indexed)\n"
   ]
  },
  {
   "cell_type": "code",
   "execution_count": 22,
   "id": "17797e15",
   "metadata": {},
   "outputs": [],
   "source": [
    "z = x[316]['points'][0]"
   ]
  },
  {
   "cell_type": "code",
   "execution_count": 23,
   "id": "185fea90",
   "metadata": {},
   "outputs": [
    {
     "data": {
      "text/plain": [
       "IgnitionPoint(idx=393, year=1, x=12, y=19)"
      ]
     },
     "execution_count": 23,
     "metadata": {},
     "output_type": "execute_result"
    }
   ],
   "source": [
    "IgnitionPoint(**z)"
   ]
  },
  {
   "cell_type": "code",
   "execution_count": null,
   "id": "0b7379d6",
   "metadata": {},
   "outputs": [],
   "source": []
  },
  {
   "cell_type": "code",
   "execution_count": null,
   "id": "f0ecb3d1",
   "metadata": {},
   "outputs": [],
   "source": []
  }
 ],
 "metadata": {
  "kernelspec": {
   "display_name": "Python 3 (ipykernel)",
   "language": "python",
   "name": "python3"
  },
  "language_info": {
   "codemirror_mode": {
    "name": "ipython",
    "version": 3
   },
   "file_extension": ".py",
   "mimetype": "text/x-python",
   "name": "python",
   "nbconvert_exporter": "python",
   "pygments_lexer": "ipython3",
   "version": "3.9.7"
  }
 },
 "nbformat": 4,
 "nbformat_minor": 5
}
