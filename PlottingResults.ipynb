{
 "cells": [
  {
   "cell_type": "code",
   "execution_count": 113,
   "id": "separate-seventh",
   "metadata": {},
   "outputs": [],
   "source": [
    "import numpy as np\n",
    "import pandas \n",
    "import matplotlib.pyplot as plt\n",
    "import os\n",
    "from tensorboard.backend.event_processing.event_accumulator import EventAccumulator\n",
    "import math"
   ]
  },
  {
   "cell_type": "code",
   "execution_count": 114,
   "id": "future-joshua",
   "metadata": {},
   "outputs": [],
   "source": [
    "def parse_folder(subfolder):\n",
    "    args = subfolder.split(\"__\")\n",
    "    arg_dict = {}\n",
    "    for arg in args:\n",
    "        if(\"=\" in arg):\n",
    "            lk,v = arg.split(\"=\")\n",
    "            k = lk.split(\"/\")[-1]\n",
    "            arg_dict[k] = v\n",
    "    return arg_dict\n",
    "\n",
    "def check_query_dict(arg_dict, query_dict):\n",
    "    for k, v in query_dict.items():\n",
    "        if(arg_dict[k] != v):\n",
    "            return False\n",
    "    return True\n",
    "\n",
    "def load_data(data_fn):\n",
    "    subfolders = [ f.path for f in os.scandir(data_fn) if f.is_dir() ]\n",
    "    sub_data_fn = os.path.join(data_fn, subfolders[0])\n",
    "    files = [os.path.join(sub_data_fn, f) for f in os.listdir(sub_data_fn) if os.path.isfile(os.path.join(sub_data_fn, f))]\n",
    "    event_acc = EventAccumulator(files[0])\n",
    "    event_acc.Reload() \n",
    "    values = [c.value for c in event_acc.Scalars(\"rollout/ep_rew_mean\")]\n",
    "    return values\n",
    "    \n",
    "def get_stats(trajectories):\n",
    "    traj_array = np.array(trajectories)\n",
    "    traj_mean = np.mean(traj_array, axis=0)\n",
    "    traj_sde = np.std(traj_array, axis=0)/math.sqrt(traj_array.shape[0])\n",
    "    return traj_mean, traj_sde\n",
    "    \n",
    "def load_query(tf_logdir=\"/Users/aidancurtis/firehose/tmpdir\", query_dicts = {}):\n",
    "    subfolders = [ f.path for f in os.scandir(tf_logdir) if f.is_dir() ]\n",
    "    arg_dicts = {subfolder: parse_folder(subfolder) for subfolder in subfolders}\n",
    "    datas = {}\n",
    "    for query_label, query_dict in query_dicts.items():\n",
    "        data = []\n",
    "        for folder_name, arg_dict in arg_dicts.items():\n",
    "            if(check_query_dict(arg_dict, query_dict)):\n",
    "                data.append(load_data(folder_name))\n",
    "        # Clip all arrays to the minimum\n",
    "        min_d = min([len(d) for d in data])\n",
    "        datas[query_label] = get_stats([d[:min_d] for d in data])\n",
    "    return datas\n",
    "\n",
    "def plot_results(results):\n",
    "    for (mean, sde) in results.values():\n",
    "        plt.plot(mean)\n",
    "        plt.fill_between(list(range(len(mean))), mean-sde, mean+sde, alpha=0.15)\n",
    "    plt.legend(results.keys())\n",
    "\n",
    "            "
   ]
  },
  {
   "cell_type": "code",
   "execution_count": 115,
   "id": "exceptional-depression",
   "metadata": {},
   "outputs": [
    {
     "data": {
      "image/png": "[encoded data removed]",
      "text/plain": [
       "<Figure size 432x288 with 1 Axes>"
      ]
     },
     "metadata": {
      "needs_background": "light"
     },
     "output_type": "display_data"
    }
   ],
   "source": [
    "# Accumulate seeds and get mean/std\n",
    "query_dicts = {\"all\": {}}\n",
    "results = load_query(query_dicts=query_dicts)\n",
    "plot_results(results)"
   ]
  },
  {
   "cell_type": "code",
   "execution_count": 116,
   "id": "forbidden-institution",
   "metadata": {},
   "outputs": [],
   "source": [
    "# Plot"
   ]
  },
  {
   "cell_type": "code",
   "execution_count": null,
   "id": "responsible-string",
   "metadata": {},
   "outputs": [],
   "source": []
  },
  {
   "cell_type": "code",
   "execution_count": null,
   "id": "covered-corruption",
   "metadata": {},
   "outputs": [],
   "source": []
  }
 ],
 "metadata": {
  "kernelspec": {
   "display_name": "Python 3",
   "language": "python",
   "name": "python3"
  },
  "language_info": {
   "codemirror_mode": {
    "name": "ipython",
    "version": 3
   },
   "file_extension": ".py",
   "mimetype": "text/x-python",
   "name": "python",
   "nbconvert_exporter": "python",
   "pygments_lexer": "ipython3",
   "version": "3.8.8"
  }
 },
 "nbformat": 4,
 "nbformat_minor": 5
}
